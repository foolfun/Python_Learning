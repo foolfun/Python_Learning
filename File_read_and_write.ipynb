{
 "cells": [
  {
   "cell_type": "markdown",
   "metadata": {},
   "source": [
    "# 读写文件 I/O"
   ]
  },
  {
   "cell_type": "markdown",
   "metadata": {},
   "source": [
    "## 读文件"
   ]
  },
  {
   "cell_type": "code",
   "execution_count": 24,
   "metadata": {},
   "outputs": [
    {
     "name": "stdout",
     "output_type": "stream",
     "text": [
      "I am Audrey\n",
      "<class 'str'>\n"
     ]
    }
   ],
   "source": [
    "# 参数说明：  \n",
    "# path：要打开文件的路径      \n",
    "# r：以只读的方式打开文件，文件的描述符放在文件开头  \n",
    "# rb：以二进制格式只读的方式打开文件，文件的描述符放在文件开头  \n",
    "# r+：读写，文件描述符放在文件的开头 \n",
    "# w：写入，文件的描述符放在文件的开头，如果该文件已经存在会覆盖，如果不存在则创建新文件 \n",
    "# wb：写入二进制，如果该文件会覆盖，如果该文件不存在新创建文件   \n",
    "# w+：读写，如果该文件存在会覆盖，如果该文件不存在新创建文件  \n",
    "# a：追加，如果文件存在文件描述符将会被放到文件末尾  \n",
    "# a+：追加  \n",
    "# encoding：编码方式  \n",
    "# errors：错误处理  \n",
    "path = r\"D:\\A_MyStudy\\Python_learning\\test.txt\"\n",
    "with open(path,\"r\",encoding=\"utf-8\") as f1:\n",
    "    data = f1.read()\n",
    "    print(data)\n",
    "    print(type(data))"
   ]
  },
  {
   "cell_type": "markdown",
   "metadata": {},
   "source": [
    "## 写文件"
   ]
  },
  {
   "cell_type": "code",
   "execution_count": 25,
   "metadata": {},
   "outputs": [],
   "source": [
    "with open(path,\"w\",encoding=\"utf-8\") as f2:\n",
    "    str = \"Hello world\"\n",
    "    f2.write(str)"
   ]
  },
  {
   "cell_type": "code",
   "execution_count": 26,
   "metadata": {},
   "outputs": [
    {
     "name": "stdout",
     "output_type": "stream",
     "text": [
      "Hello world\n",
      "<class 'str'>\n"
     ]
    }
   ],
   "source": [
    "with open(path,\"r\",encoding=\"utf-8\") as f1:\n",
    "    data = f1.read()\n",
    "    print(data)\n",
    "    print(type(data))"
   ]
  },
  {
   "cell_type": "markdown",
   "metadata": {},
   "source": [
    "## 追加"
   ]
  },
  {
   "cell_type": "code",
   "execution_count": 27,
   "metadata": {},
   "outputs": [],
   "source": [
    "with open(path,\"a\",encoding=\"utf-8\") as f3:\n",
    "    str = \"\\nToday is nice. \"\n",
    "    f3.write(str)"
   ]
  },
  {
   "cell_type": "code",
   "execution_count": 28,
   "metadata": {},
   "outputs": [
    {
     "name": "stdout",
     "output_type": "stream",
     "text": [
      "Hello world\n",
      "Today is nice. \n",
      "<class 'str'>\n"
     ]
    }
   ],
   "source": [
    "with open(path,\"r\",encoding=\"utf-8\") as f1:\n",
    "    data = f1.read()\n",
    "    print(data)\n",
    "    print(type(data))"
   ]
  },
  {
   "cell_type": "code",
   "execution_count": null,
   "metadata": {},
   "outputs": [],
   "source": []
  }
 ],
 "metadata": {
  "kernelspec": {
   "display_name": "Python 3",
   "language": "python",
   "name": "python3"
  },
  "language_info": {
   "codemirror_mode": {
    "name": "ipython",
    "version": 3
   },
   "file_extension": ".py",
   "mimetype": "text/x-python",
   "name": "python",
   "nbconvert_exporter": "python",
   "pygments_lexer": "ipython3",
   "version": "3.6.5"
  }
 },
 "nbformat": 4,
 "nbformat_minor": 2
}
